{
 "cells": [
  {
   "cell_type": "code",
   "execution_count": 851,
   "metadata": {
    "collapsed": false,
    "deletable": true,
    "editable": true
   },
   "outputs": [],
   "source": [
    "\"\"\"\n",
    "        copyright (c) 2012-2017 Oscar Riveros. all rights reserved.\n",
    "                           oscar.riveros@peqnp.com\n",
    "\n",
    "    without any restriction, Oscar Riveros reserved rights, patents and\n",
    "  commercialization of this knowledge or derived directly from this work.\n",
    "\n",
    "http://twitter.com/maxtuno \n",
    "http://klout.com/maxtuno \n",
    "http://independent.academia.edu/oarr\n",
    "\n",
    "A O(n) UNT ALGORITHM FOR THE UNION-FIND PROBLEM\n",
    "https://www.academia.edu/31682983/A_O_n_UNT_ALGORITHM_FOR_THE_UNION-FIND_PROBLEM\n",
    "\"\"\"\n",
    "\n",
    "class USTCONN:\n",
    "    def __init__(self):\n",
    "        self.universe = []\n",
    "\n",
    "    def __str__(self):\n",
    "        paths = ''\n",
    "        for item in self.universe:\n",
    "            paths += '{}, '.format(self.nary(item))\n",
    "        return paths\n",
    "\n",
    "    def nary(self, n):\n",
    "        s = ''\n",
    "        while n:\n",
    "            s += str(n % 2)\n",
    "            n //= 2\n",
    "        return [idx for idx in range(len(s)) if s[idx] == '1']\n",
    "\n",
    "    def union(self, a, b):\n",
    "        element = (1 << a) | (1 << b)\n",
    "        idx = 0\n",
    "        while idx != len(self.universe):\n",
    "            if self.universe[idx] & element:\n",
    "                element |= self.universe[idx]\n",
    "                del self.universe[idx]\n",
    "                idx -= 1\n",
    "            idx += 1\n",
    "        self.universe.append(element)\n",
    "\n",
    "    def connected(self, a, b):\n",
    "        for item in self.universe:\n",
    "            if (item & (1 << a)) and (item & (1 << b)):\n",
    "                return item\n",
    "        return 0\n",
    "\n",
    "    def make_set(self, a):\n",
    "        self.union(a, a)\n",
    "\n",
    "    def find(self, a):\n",
    "        return self.connected(a, a)"
   ]
  },
  {
   "cell_type": "code",
   "execution_count": 852,
   "metadata": {
    "collapsed": true,
    "deletable": true,
    "editable": true
   },
   "outputs": [],
   "source": [
    "%matplotlib inline\n",
    "import networkx as nx\n",
    "import matplotlib.pyplot as plt\n",
    "import numpy as np"
   ]
  },
  {
   "cell_type": "code",
   "execution_count": 853,
   "metadata": {
    "collapsed": false,
    "deletable": true,
    "editable": true
   },
   "outputs": [
    {
     "name": "stdout",
     "output_type": "stream",
     "text": [
      "[1, 3, 4, 6, 7, 8], [0, 5], \n"
     ]
    },
    {
     "data": {
      "image/png": "[encoded data removed]",
      "text/plain": [
       "<matplotlib.figure.Figure at 0x1072a8908>"
      ]
     },
     "metadata": {},
     "output_type": "display_data"
    }
   ],
   "source": [
    "size = 10\n",
    "\n",
    "g = nx.Graph(np.random.randint(0, size, size=(size, 2)).tolist())\n",
    "pos = nx.spring_layout(g)\n",
    "nx.draw_networkx(g, pos=pos, alpha=1)\n",
    "plt.draw()\n",
    "\n",
    "ustconn = USTCONN()\n",
    "\n",
    "edges = g.edges()\n",
    "    \n",
    "for a, b in edges:\n",
    "    g.add_edge(a, b)\n",
    "    ustconn.union(a, b)\n",
    "\n",
    "print(ustconn)"
   ]
  },
  {
   "cell_type": "code",
   "execution_count": 854,
   "metadata": {
    "collapsed": false,
    "deletable": true,
    "editable": true
   },
   "outputs": [
    {
     "data": {
      "text/plain": [
       "[0, 5]"
      ]
     },
     "execution_count": 854,
     "metadata": {},
     "output_type": "execute_result"
    }
   ],
   "source": [
    "ustconn.nary(ustconn.find(0))"
   ]
  },
  {
   "cell_type": "code",
   "execution_count": null,
   "metadata": {
    "collapsed": true
   },
   "outputs": [],
   "source": []
  }
 ],
 "metadata": {
  "kernelspec": {
   "display_name": "Python 3",
   "language": "python",
   "name": "python3"
  }
 },
 "nbformat": 4,
 "nbformat_minor": 2
}
